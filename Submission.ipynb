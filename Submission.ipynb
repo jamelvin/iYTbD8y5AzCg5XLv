{
 "cells": [
  {
   "cell_type": "code",
   "execution_count": 1,
   "id": "02411979",
   "metadata": {},
   "outputs": [],
   "source": [
    "# Add needed libraries\n",
    "import numpy as np\n",
    "import pandas as pd\n",
    "import matplotlib.pyplot as plt\n",
    "import seaborn as sns\n",
    "import random\n",
    "\n",
    "# Preprocessing\n",
    "from sklearn.preprocessing import OneHotEncoder\n",
    "\n",
    "# VIF for multi-collinearity detection\n",
    "from statsmodels.stats.outliers_influence import variance_inflation_factor\n",
    "\n",
    "# Models and modeling tools\n",
    "from sklearn.model_selection import train_test_split\n",
    "from sklearn.linear_model import LinearRegression\n",
    "from sklearn.linear_model import LogisticRegression\n",
    "from sklearn import tree\n",
    "from sklearn.ensemble import RandomForestClassifier\n",
    "import statsmodels.api as sm\n",
    "\n",
    "# Models and modeling tools\n",
    "from sklearn.ensemble import RandomForestClassifier\n",
    "from sklearn.model_selection import StratifiedKFold\n",
    "from sklearn.model_selection import RepeatedStratifiedKFold\n",
    "from sklearn.model_selection import cross_val_score\n",
    "from sklearn.metrics import accuracy_score\n",
    "from sklearn.metrics import balanced_accuracy_score\n",
    "\n",
    "from imblearn.over_sampling import SMOTE\n",
    "from imblearn.under_sampling import RandomUnderSampler\n",
    "from imblearn.pipeline import Pipeline\n",
    "\n",
    "# Change inline plots default size\n",
    "plt.rcParams['figure.figsize'] = [14, 10]"
   ]
  },
  {
   "cell_type": "markdown",
   "id": "e345dbaa",
   "metadata": {},
   "source": [
    "## Data description: ##\n",
    "The data comes from direct marketing efforts of a European banking institution. The marketing campaign involves making a phone call to a customer, often multiple times to ensure a product subscription, in this case a term deposit. Term deposits are usually short-term deposits with maturities ranging from one month to a few years. The customer must understand when buying a term deposit that they can withdraw their funds only after the term ends. All customer information that might reveal personal information is removed due to privacy concerns.\n",
    "\n",
    "- y = has the client subscribed to a term deposit? (binary)\n",
    "- age = age of customer (numeric)\n",
    "- job = type of job (categorical)\n",
    "- marital = marital status (categorical)\n",
    "- education = education level (categorical)\n",
    "- balance = average yearly balance, in euros (numeric)\n",
    "- housing = has a housing loan? (binary)\n",
    "- loan = has personal loan? (binary)\n",
    "- contact = contact communication type (categorical)\n",
    "- day = last contact day of the month (numeric)\n",
    "- month = last contact month of year (categorical)\n",
    "- duration = last contact duration, in seconds (numeric)\n",
    "- campaign = number of contacts performed during this campaign and for this client (numeric, includes last contact)"
   ]
  },
  {
   "cell_type": "markdown",
   "id": "4495020f",
   "metadata": {},
   "source": [
    "## Analysis Summary: ##"
   ]
  },
  {
   "cell_type": "markdown",
   "id": "140b3984",
   "metadata": {},
   "source": [
    "Goal(s):\n",
    "\n",
    "Predict if the customer will subscribe (yes/no) to a term deposit (variable y)\n",
    "\n",
    "Bonus(es):\n",
    "\n",
    "We are also interested in finding customers who are more likely to buy the investment product. Determine the segment(s) of customers our client should prioritize.\n",
    "\n",
    "What makes the customers buy? Tell us which feature we should be focusing more on.\n",
    "\n",
    "\n",
    "<font size=\"3\" >\n",
    "    \n",
    "Some demographic information, financial status and call center interaction data was collected for customers during a direct marketing campaign selling term deposits to clients at a European bank. The data was used to develop a model to predict whether a customer will subscribe to the term deposit. Naturally, the typical subscription success rate is low (only 7.2% in the dataset), thus it is more important for the model to maximize the number of sales at the cost of predicting additional false leads (this is maximizing recall in data scientist jargon).  \n",
    "    \n",
    "    \n",
    "    \n",
    "Survey data was collected from a customer cohort and responses were used to develop a model to determine what aspects of the ordering and delivery process were most likely to lead to customer happiness. The model suggests the most important characteristics leading to customer happiness were `Find Everything Customer Wanted` (30.3%) and `On Time Delivery` (27.3%).\n",
    "\n",
    "The clearest story in the sample data was for `On Time Delivery`, where 65% of Happy respondents gave a 5/5 rating compared to only 35% of Unhappy respondents.  For `Find Everything Customer Wanted`, 48% of Happy respondents rated it 4/5 or above, compared to 30% of Unhappy respondents.\n",
    "\n",
    "This suggests that to improve customer satisfaction, business development and investment should be focused on improving On Time Delivery and expanding inventory/partnerships to increase the likelihood a customer is able to find the products they are looking for.\n",
    "\n",
    "The model, which uses survey responses on `On Time Delivery`, `Find Everything Customer Wanted`, `Good Prices` and `Easy to Use App`, provides about 70% accuracy in predicting the happiness of the customer.  A small survey sample size may be limiting the potential accuracy of the model, as well as the types of analysis available and thus for future surveys, depending on costs, larger samples would ideally be prioritized.\n",
    "\n",
    "The analysis excluded two survey responses after initial data exploration, `Customer Order was as Expected` and `Delivery Satisfaction`.  `Customer Order was as Expected` showed the weakest relationship with customer happiness and the exclusion of `Delivery Satisfaction` was determined to lead to the largest improvement in model accuracy when dropped along with `Customer Order was as Expected`.\n",
    "\n",
    "A potentially concerning insight from the sample data was that `Customer Order was as Expected` had the lowest average rating at only 2.53/5.  While the relationship of this survey response was weak with customer happiness in the sample data, one hypothesis is that since it appears that customers are not typically receiving what they expect, this characteristic isn't informative of their happiness.  Intuition would suggest that receiving what you would expect to receive should be important.  Future surveys may want to investigate this further, through additional questions, to better understand why customers are providing low ratings for `Customer Order was as Expected`.\n"
   ]
  },
  {
   "cell_type": "code",
   "execution_count": null,
   "id": "97b90ac4",
   "metadata": {},
   "outputs": [],
   "source": []
  }
 ],
 "metadata": {
  "kernelspec": {
   "display_name": "Python 3 (ipykernel)",
   "language": "python",
   "name": "python3"
  },
  "language_info": {
   "codemirror_mode": {
    "name": "ipython",
    "version": 3
   },
   "file_extension": ".py",
   "mimetype": "text/x-python",
   "name": "python",
   "nbconvert_exporter": "python",
   "pygments_lexer": "ipython3",
   "version": "3.7.11"
  }
 },
 "nbformat": 4,
 "nbformat_minor": 5
}
